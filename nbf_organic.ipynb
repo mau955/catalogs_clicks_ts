{
 "cells": [
  {
   "cell_type": "markdown",
   "metadata": {},
   "source": [
    "# Predicting Customer Website Clicks"
   ]
  },
  {
   "cell_type": "code",
   "execution_count": 1,
   "metadata": {},
   "outputs": [
    {
     "name": "stderr",
     "output_type": "stream",
     "text": [
      "Importing plotly failed. Interactive plots will not work.\n"
     ]
    }
   ],
   "source": [
    "# importing libraries\n",
    "# the utilities file has most of the coding, that's where I have done the dirty work to make this neat\n",
    "from utilities import *\n",
    "\n",
    "%matplotlib inline\n",
    "%load_ext autoreload\n",
    "%autoreload 2"
   ]
  },
  {
   "cell_type": "code",
   "execution_count": 2,
   "metadata": {},
   "outputs": [],
   "source": [
    "# file paths\n",
    "catalogs_file_path = r'data\\NBF_Catalogs.xlsx'\n",
    "organic_file_path = r\"data\\NBF_Web-Web_Channel_Organic_Search_20180101-20200531.xlsx\""
   ]
  },
  {
   "cell_type": "code",
   "execution_count": 3,
   "metadata": {},
   "outputs": [],
   "source": [
    "# parameters\n",
    "# you can change the frequency to D - daily, monthy for monthly output, to yearly as it pleases\n",
    "n_forecast_weeks = 13\n",
    "freq = \"W\""
   ]
  },
  {
   "cell_type": "code",
   "execution_count": 4,
   "metadata": {},
   "outputs": [],
   "source": [
    "# import catalogs data set\n",
    "nbf_catalogs_ts = read_catalogs_data(catalogs_file_path, freq)"
   ]
  },
  {
   "cell_type": "code",
   "execution_count": 5,
   "metadata": {},
   "outputs": [
    {
     "name": "stdout",
     "output_type": "stream",
     "text": [
      "----------------------------------------------------------------------\n",
      "['google' 'bing' 'yahoo' 'duckduckgo' 'images.google' 'ask'\n",
      " 'us.search.yahoo.com' 'aol' 'ecosia.org' 'baidu' 'avg' 'google images'\n",
      " 'sogou' 'yandex' 'incredimail' 'kvasir' 'msn' 'naver' 'onet' 'rakuten'\n",
      " 'search-results' 'search.smt.docomo' 'seznam' 'startsiden']\n"
     ]
    }
   ],
   "source": [
    "# import direct data set\n",
    "nbf_organic_ts = read_clicks_data(organic_file_path, freq)"
   ]
  },
  {
   "cell_type": "code",
   "execution_count": 6,
   "metadata": {},
   "outputs": [
    {
     "name": "stdout",
     "output_type": "stream",
     "text": [
      "----------------------------------------------------------------------\n",
      "corr 0.055423872025481304\n",
      "p-value 0.5376271241922508\n",
      "----------------------------------------------------------------------\n",
      "                            OLS Regression Results                            \n",
      "==============================================================================\n",
      "Dep. Variable:              no_clicks   R-squared:                       0.003\n",
      "Model:                            OLS   Adj. R-squared:                 -0.005\n",
      "Method:                 Least Squares   F-statistic:                    0.3821\n",
      "Date:                Sun, 19 Jul 2020   Prob (F-statistic):              0.538\n",
      "Time:                        19:10:33   Log-Likelihood:                -1207.3\n",
      "No. Observations:                 126   AIC:                             2419.\n",
      "Df Residuals:                     124   BIC:                             2424.\n",
      "Df Model:                           1                                         \n",
      "Covariance Type:            nonrobust                                         \n",
      "===============================================================================\n",
      "                  coef    std err          t      P>|t|      [0.025      0.975]\n",
      "-------------------------------------------------------------------------------\n",
      "Intercept    1.383e+04    538.257     25.695      0.000    1.28e+04    1.49e+04\n",
      "no_catalogs     0.0015      0.002      0.618      0.538      -0.003       0.006\n",
      "==============================================================================\n",
      "Omnibus:                       62.222   Durbin-Watson:                   0.167\n",
      "Prob(Omnibus):                  0.000   Jarque-Bera (JB):                8.278\n",
      "Skew:                           0.039   Prob(JB):                       0.0159\n",
      "Kurtosis:                       1.747   Cond. No.                     3.69e+05\n",
      "==============================================================================\n",
      "\n",
      "Warnings:\n",
      "[1] Standard Errors assume that the covariance matrix of the errors is correctly specified.\n",
      "[2] The condition number is large, 3.69e+05. This might indicate that there are\n",
      "strong multicollinearity or other numerical problems.\n"
     ]
    }
   ],
   "source": [
    "# merge catalogs and direct data sets\n",
    "nbf_catalogs_organic_ts = merge_catalogs_clicks(nbf_catalogs_ts, nbf_organic_ts)"
   ]
  },
  {
   "cell_type": "code",
   "execution_count": 1,
   "metadata": {},
   "outputs": [
    {
     "ename": "NameError",
     "evalue": "name 'clicks_ts' is not defined",
     "output_type": "error",
     "traceback": [
      "\u001b[1;31m---------------------------------------------------------------------------\u001b[0m",
      "\u001b[1;31mNameError\u001b[0m                                 Traceback (most recent call last)",
      "\u001b[1;32m<ipython-input-1-50355a62a290>\u001b[0m in \u001b[0;36m<module>\u001b[1;34m\u001b[0m\n\u001b[0;32m      1\u001b[0m \u001b[1;31m# make predictions\u001b[0m\u001b[1;33m\u001b[0m\u001b[1;33m\u001b[0m\u001b[1;33m\u001b[0m\u001b[0m\n\u001b[1;32m----> 2\u001b[1;33m \u001b[0mclicks_ts\u001b[0m\u001b[1;33m(\u001b[0m\u001b[0mnbf_catalogs_organic_ts\u001b[0m\u001b[1;33m,\u001b[0m \u001b[0mn_forecast_weeks\u001b[0m\u001b[1;33m,\u001b[0m \u001b[0mfreq\u001b[0m\u001b[1;33m)\u001b[0m\u001b[1;33m\u001b[0m\u001b[1;33m\u001b[0m\u001b[0m\n\u001b[0m",
      "\u001b[1;31mNameError\u001b[0m: name 'clicks_ts' is not defined"
     ]
    }
   ],
   "source": [
    "# make predictions\n",
    "clicks_ts(nbf_catalogs_organic_ts, n_forecast_weeks, freq)"
   ]
  },
  {
   "cell_type": "code",
   "execution_count": null,
   "metadata": {},
   "outputs": [],
   "source": []
  }
 ],
 "metadata": {
  "kernelspec": {
   "display_name": "Python 3",
   "language": "python",
   "name": "python3"
  },
  "language_info": {
   "codemirror_mode": {
    "name": "ipython",
    "version": 3
   },
   "file_extension": ".py",
   "mimetype": "text/x-python",
   "name": "python",
   "nbconvert_exporter": "python",
   "pygments_lexer": "ipython3",
   "version": "3.7.7"
  }
 },
 "nbformat": 4,
 "nbformat_minor": 4
}
